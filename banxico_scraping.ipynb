{
 "cells": [
  {
   "cell_type": "code",
   "execution_count": 7,
   "metadata": {},
   "outputs": [],
   "source": [
    "from selenium import webdriver\n",
    "from selenium.webdriver.common.by import By\n",
    "from selenium.webdriver.support.ui import WebDriverWait\n",
    "from selenium.webdriver.support import expected_conditions as EC\n",
    "from selenium.common.exceptions import StaleElementReferenceException, TimeoutException, ElementClickInterceptedException\n",
    "import time"
   ]
  },
  {
   "cell_type": "code",
   "execution_count": null,
   "metadata": {},
   "outputs": [
    {
     "data": {
      "text/plain": [
       "['4',\n",
       " '23',\n",
       " '6',\n",
       " '18',\n",
       " '22',\n",
       " '7',\n",
       " '3',\n",
       " '19',\n",
       " '11',\n",
       " '9',\n",
       " '8',\n",
       " '20',\n",
       " '2',\n",
       " '10',\n",
       " '1',\n",
       " '5',\n",
       " '21',\n",
       " '24',\n",
       " '25']"
      ]
     },
     "execution_count": 41,
     "metadata": {},
     "output_type": "execute_result"
    }
   ],
   "source": [
    "def find_sector_ids(url):\n",
    "    \"\"\"Function to scrap sector IDs in elements with onclick property from Banxico.\n",
    "\n",
    "    Parameters\n",
    "    ----------\n",
    "    url : str\n",
    "        banxico url containig the series id information\n",
    "\n",
    "    Returns\n",
    "    -------\n",
    "    sector_ids : list\n",
    "        list containing sector ids as strings\n",
    "    \"\"\"\n",
    "    sector_ids = []\n",
    "    try:\n",
    "        driver = webdriver.Chrome()\n",
    "        driver.get(url)\n",
    "\n",
    "        wait = WebDriverWait(driver, 10)\n",
    "        wait.until(EC.presence_of_element_located((By.TAG_NAME, \"body\")))\n",
    "        time.sleep(5)\n",
    "        \n",
    "        #driver.find_element_by_xpath(\".//input[contains(@onclick, '1 Bedroom Deluxe')]\")\n",
    "        elements = driver.find_elements(By.XPATH, '//*[@onclick]')\n",
    "\n",
    "        if len(elements) < 3: \n",
    "            driver.quit()\n",
    "            time.sleep(10)\n",
    "            find_sector_ids(url)\n",
    "\n",
    "\n",
    "        for element_id in elements:\n",
    "            onclick_txt = element_id.get_attribute('onclick')\n",
    "            if \"cargaDirectorioSector\" in onclick_txt:\n",
    "                sector_ids.append((onclick_txt.split(\",\")[0].split(\"(\")[-1]))\n",
    "        return sector_ids\n",
    "\n",
    "    finally:\n",
    "        driver.quit()\n",
    "\n",
    "\n",
    "banxico_series_url = \"https://www.banxico.org.mx/SieAPIRest/service/v1/doc/catalogoSeries\" \n",
    "\n",
    "sector_ids = find_sector_ids(banxico_series_url)\n",
    "sector_ids\n"
   ]
  }
 ],
 "metadata": {
  "kernelspec": {
   "display_name": "obj_detection",
   "language": "python",
   "name": "python3"
  },
  "language_info": {
   "codemirror_mode": {
    "name": "ipython",
    "version": 3
   },
   "file_extension": ".py",
   "mimetype": "text/x-python",
   "name": "python",
   "nbconvert_exporter": "python",
   "pygments_lexer": "ipython3",
   "version": "3.11.7"
  }
 },
 "nbformat": 4,
 "nbformat_minor": 2
}
